{
 "cells": [
  {
   "cell_type": "code",
   "id": "initial_id",
   "metadata": {
    "collapsed": true,
    "ExecuteTime": {
     "end_time": "2024-11-27T00:18:44.918850Z",
     "start_time": "2024-11-27T00:18:43.913433Z"
    }
   },
   "source": "from pyspark.sql import SparkSession",
   "outputs": [],
   "execution_count": 1
  },
  {
   "metadata": {
    "ExecuteTime": {
     "end_time": "2024-11-27T00:18:51.070454Z",
     "start_time": "2024-11-27T00:18:46.530546Z"
    }
   },
   "cell_type": "code",
   "source": [
    "spark = SparkSession.builder \\\n",
    "    .appName(\"My Spark Application\") \\\n",
    "    .master(\"local[2]\") \\\n",
    "    .config(\"spark.executor.memory\", \"2g\") \\\n",
    "    .config(\"spark.sql.shuffle.partitions\", \"4\") \\\n",
    "    .getOrCreate()"
   ],
   "id": "a8a1dbc289920fe0",
   "outputs": [],
   "execution_count": 2
  },
  {
   "metadata": {
    "ExecuteTime": {
     "end_time": "2024-11-27T00:18:54.830814Z",
     "start_time": "2024-11-27T00:18:54.826214Z"
    }
   },
   "cell_type": "code",
   "source": [
    "from pyspark.sql.types import StructType, StructField, StringType, DoubleType, LongType\n",
    "\n",
    "schema = StructType([\n",
    "    StructField(\"category\", StringType(), False),    \n",
    "    StructField(\"description\", StringType(), True),       \n",
    "    StructField(\"id\", LongType(), False),                 \n",
    "    StructField(\"image\", StringType(), True),             \n",
    "    StructField(\"price\", DoubleType(), False),              \n",
    "    StructField(\"rating\", StructType([                     \n",
    "        StructField(\"count\", LongType(), True),            \n",
    "        StructField(\"rate\", DoubleType(), True)            \n",
    "    ]), True),\n",
    "    StructField(\"title\", StringType(), False)               \n",
    "])"
   ],
   "id": "1ef2bcde064f8c03",
   "outputs": [],
   "execution_count": 3
  },
  {
   "metadata": {
    "ExecuteTime": {
     "end_time": "2024-11-27T00:18:57.756301Z",
     "start_time": "2024-11-27T00:18:56.138539Z"
    }
   },
   "cell_type": "code",
   "source": "df = spark.read.json(\"fake_store_products.json\", schema=schema)",
   "id": "63c9626882bf33ae",
   "outputs": [],
   "execution_count": 4
  },
  {
   "metadata": {
    "ExecuteTime": {
     "end_time": "2024-11-27T00:19:00.187580Z",
     "start_time": "2024-11-27T00:18:58.662830Z"
    }
   },
   "cell_type": "code",
   "source": "df.show()",
   "id": "bc4f3d2a844f28fb",
   "outputs": [
    {
     "name": "stdout",
     "output_type": "stream",
     "text": [
      "+----------------+--------------------+---+--------------------+------+----------+--------------------+\n",
      "|        category|         description| id|               image| price|    rating|               title|\n",
      "+----------------+--------------------+---+--------------------+------+----------+--------------------+\n",
      "|  men's clothing|Your perfect pack...|  1|https://fakestore...|109.95|{120, 3.9}|Fjallraven - Fold...|\n",
      "|  men's clothing|Slim-fitting styl...|  2|https://fakestore...|  22.3|{259, 4.1}|Mens Casual Premi...|\n",
      "|  men's clothing|great outerwear j...|  3|https://fakestore...| 55.99|{500, 4.7}|  Mens Cotton Jacket|\n",
      "|  men's clothing|The color could b...|  4|https://fakestore...| 15.99|{430, 2.1}|Mens Casual Slim Fit|\n",
      "|        jewelery|From our Legends ...|  5|https://fakestore...| 695.0|{400, 4.6}|John Hardy Women'...|\n",
      "|        jewelery|Satisfaction Guar...|  6|https://fakestore...| 168.0| {70, 3.9}|Solid Gold Petite...|\n",
      "|        jewelery|Classic Created W...|  7|https://fakestore...|  9.99|{400, 3.0}|White Gold Plated...|\n",
      "|        jewelery|Rose Gold Plated ...|  8|https://fakestore...| 10.99|{100, 1.9}|Pierced Owl Rose ...|\n",
      "|     electronics|USB 3.0 and USB 2...|  9|https://fakestore...|  64.0|{203, 3.3}|WD 2TB Elements P...|\n",
      "|     electronics|Easy upgrade for ...| 10|https://fakestore...| 109.0|{470, 2.9}|SanDisk SSD PLUS ...|\n",
      "|     electronics|3D NAND flash are...| 11|https://fakestore...| 109.0|{319, 4.8}|Silicon Power 256...|\n",
      "|     electronics|Expand your PS4 g...| 12|https://fakestore...| 114.0|{400, 4.8}|WD 4TB Gaming Dri...|\n",
      "|     electronics|21. 5 inches Full...| 13|https://fakestore...| 599.0|{250, 2.9}|Acer SB220Q bi 21...|\n",
      "|     electronics|49 INCH SUPER ULT...| 14|https://fakestore...|999.99|{140, 2.2}|Samsung 49-Inch C...|\n",
      "|women's clothing|Note:The Jackets ...| 15|https://fakestore...| 56.99|{235, 2.6}|BIYLACLESEN Women...|\n",
      "|women's clothing|100% POLYURETHANE...| 16|https://fakestore...| 29.95|{340, 2.9}|Lock and Love Wom...|\n",
      "|women's clothing|Lightweight perfe...| 17|https://fakestore...| 39.99|{679, 3.8}|Rain Jacket Women...|\n",
      "|women's clothing|95% RAYON 5% SPAN...| 18|https://fakestore...|  9.85|{130, 4.7}|MBJ Women's Solid...|\n",
      "|women's clothing|100% Polyester, M...| 19|https://fakestore...|  7.95|{146, 4.5}|Opna Women's Shor...|\n",
      "|women's clothing|95%Cotton,5%Spand...| 20|https://fakestore...| 12.99|{145, 3.6}|DANVOUY Womens T ...|\n",
      "+----------------+--------------------+---+--------------------+------+----------+--------------------+\n",
      "\n"
     ]
    }
   ],
   "execution_count": 5
  },
  {
   "metadata": {
    "ExecuteTime": {
     "end_time": "2024-11-27T00:19:00.508028Z",
     "start_time": "2024-11-27T00:19:00.501769Z"
    }
   },
   "cell_type": "code",
   "source": "df.printSchema()",
   "id": "59de4954c0ecd17e",
   "outputs": [
    {
     "name": "stdout",
     "output_type": "stream",
     "text": [
      "root\n",
      " |-- category: string (nullable = true)\n",
      " |-- description: string (nullable = true)\n",
      " |-- id: long (nullable = true)\n",
      " |-- image: string (nullable = true)\n",
      " |-- price: double (nullable = true)\n",
      " |-- rating: struct (nullable = true)\n",
      " |    |-- count: long (nullable = true)\n",
      " |    |-- rate: double (nullable = true)\n",
      " |-- title: string (nullable = true)\n",
      "\n"
     ]
    }
   ],
   "execution_count": 6
  },
  {
   "metadata": {},
   "cell_type": "markdown",
   "source": "",
   "id": "f26be88d97d48109"
  },
  {
   "metadata": {
    "ExecuteTime": {
     "end_time": "2024-11-27T00:19:04.955352Z",
     "start_time": "2024-11-27T00:19:04.692400Z"
    }
   },
   "cell_type": "code",
   "source": [
    "from pyspark.sql import functions as F\n",
    "def transform(df):\n",
    "    usd_to_try=34.66\n",
    "    df = df.withColumn(\"review\", F.col(\"rating.count\")).withColumn(\"score\", F.col(\"rating.rate\"))\n",
    "    df = df.withColumn(\"price\", F.col(\"price\").cast(\"double\"))\n",
    "    df = df.withColumn(\"price_try\", F.round(F.col(\"price\") * usd_to_try,0))\n",
    "    df = df.drop(\"rating\")\n",
    "    df = df.drop(\"price\")\n",
    "    return df\n",
    "transformed_data = transform(df)"
   ],
   "id": "cd83cfdf489a9cc1",
   "outputs": [],
   "execution_count": 7
  },
  {
   "metadata": {
    "ExecuteTime": {
     "end_time": "2024-11-27T00:19:10.148157Z",
     "start_time": "2024-11-27T00:19:09.987346Z"
    }
   },
   "cell_type": "code",
   "source": [
    "transformed_data.show(5)\n",
    "transformed_data.printSchema()"
   ],
   "id": "49d2b8ebbc105616",
   "outputs": [
    {
     "name": "stdout",
     "output_type": "stream",
     "text": [
      "+--------------+--------------------+---+--------------------+--------------------+------+-----+---------+\n",
      "|      category|         description| id|               image|               title|review|score|price_try|\n",
      "+--------------+--------------------+---+--------------------+--------------------+------+-----+---------+\n",
      "|men's clothing|Your perfect pack...|  1|https://fakestore...|Fjallraven - Fold...|   120|  3.9|   3811.0|\n",
      "|men's clothing|Slim-fitting styl...|  2|https://fakestore...|Mens Casual Premi...|   259|  4.1|    773.0|\n",
      "|men's clothing|great outerwear j...|  3|https://fakestore...|  Mens Cotton Jacket|   500|  4.7|   1941.0|\n",
      "|men's clothing|The color could b...|  4|https://fakestore...|Mens Casual Slim Fit|   430|  2.1|    554.0|\n",
      "|      jewelery|From our Legends ...|  5|https://fakestore...|John Hardy Women'...|   400|  4.6|  24089.0|\n",
      "+--------------+--------------------+---+--------------------+--------------------+------+-----+---------+\n",
      "only showing top 5 rows\n",
      "\n",
      "root\n",
      " |-- category: string (nullable = true)\n",
      " |-- description: string (nullable = true)\n",
      " |-- id: long (nullable = true)\n",
      " |-- image: string (nullable = true)\n",
      " |-- title: string (nullable = true)\n",
      " |-- review: long (nullable = true)\n",
      " |-- score: double (nullable = true)\n",
      " |-- price_try: double (nullable = true)\n",
      "\n"
     ]
    }
   ],
   "execution_count": 8
  },
  {
   "metadata": {
    "ExecuteTime": {
     "end_time": "2024-11-27T00:19:11.126032Z",
     "start_time": "2024-11-27T00:19:11.122696Z"
    }
   },
   "cell_type": "code",
   "source": "## SparkSQL - Queries",
   "id": "1f0a6bf81faa4970",
   "outputs": [],
   "execution_count": 9
  },
  {
   "metadata": {
    "ExecuteTime": {
     "end_time": "2024-11-27T00:19:12.228024Z",
     "start_time": "2024-11-27T00:19:12.187715Z"
    }
   },
   "cell_type": "code",
   "source": "transformed_data.createTempView(\"store\")",
   "id": "312826f51cc3522b",
   "outputs": [],
   "execution_count": 10
  },
  {
   "metadata": {
    "ExecuteTime": {
     "end_time": "2024-11-27T00:19:14.205488Z",
     "start_time": "2024-11-27T00:19:13.625488Z"
    }
   },
   "cell_type": "code",
   "source": [
    "# Total product numbers in store\n",
    "spark.sql(\"\"\"\n",
    "SELECT COUNT(*) as TOTAL_PRODUCT_NUMBER FROM store\"\"\").show()"
   ],
   "id": "d139bae8e414d4c7",
   "outputs": [
    {
     "name": "stdout",
     "output_type": "stream",
     "text": [
      "+--------------------+\n",
      "|TOTAL_PRODUCT_NUMBER|\n",
      "+--------------------+\n",
      "|                  20|\n",
      "+--------------------+\n",
      "\n"
     ]
    }
   ],
   "execution_count": 11
  },
  {
   "metadata": {
    "ExecuteTime": {
     "end_time": "2024-11-27T00:19:15.327680Z",
     "start_time": "2024-11-27T00:19:14.992355Z"
    }
   },
   "cell_type": "code",
   "source": [
    "# Total product numbers Grouped by Categories\n",
    "spark.sql(\"\"\"\n",
    "SELECT category, COUNT(*) TOTAL_PRODUCT FROM store\n",
    "GROUP BY category\"\"\").show()"
   ],
   "id": "e68b935aca65181c",
   "outputs": [
    {
     "name": "stdout",
     "output_type": "stream",
     "text": [
      "+----------------+-------------+\n",
      "|        category|TOTAL_PRODUCT|\n",
      "+----------------+-------------+\n",
      "|  men's clothing|            4|\n",
      "|women's clothing|            6|\n",
      "|        jewelery|            4|\n",
      "|     electronics|            6|\n",
      "+----------------+-------------+\n",
      "\n"
     ]
    }
   ],
   "execution_count": 12
  },
  {
   "metadata": {
    "ExecuteTime": {
     "end_time": "2024-11-27T00:19:16.175004Z",
     "start_time": "2024-11-27T00:19:15.860410Z"
    }
   },
   "cell_type": "code",
   "source": [
    "# Calculate Average Review, Average Price, and Average Score Grouped by Category\n",
    "spark.sql(\"\"\"\n",
    "SELECT \n",
    "    category,\n",
    "    round(AVG(review)) as AVG_REVIEW,\n",
    "    round(AVG(score)) as AVG_SCORE,\n",
    "    round(AVG(price_try)) as AVG_PRICE_TRY\n",
    "FROM store\n",
    "GROUP BY category\"\"\").show()"
   ],
   "id": "d60179baf27e528d",
   "outputs": [
    {
     "name": "stdout",
     "output_type": "stream",
     "text": [
      "+----------------+----------+---------+-------------+\n",
      "|        category|AVG_REVIEW|AVG_SCORE|AVG_PRICE_TRY|\n",
      "+----------------+----------+---------+-------------+\n",
      "|  men's clothing|     327.0|      4.0|       1770.0|\n",
      "|women's clothing|     279.0|      4.0|        911.0|\n",
      "|        jewelery|     243.0|      3.0|       7660.0|\n",
      "|     electronics|     297.0|      3.0|      11524.0|\n",
      "+----------------+----------+---------+-------------+\n",
      "\n"
     ]
    }
   ],
   "execution_count": 13
  },
  {
   "metadata": {
    "ExecuteTime": {
     "end_time": "2024-11-27T00:19:16.983157Z",
     "start_time": "2024-11-27T00:19:16.493128Z"
    }
   },
   "cell_type": "code",
   "source": [
    "# The most expensive product along with all its details.\n",
    "spark.sql(\"\"\"\n",
    "SELECT\n",
    "    category, description, title, review, score, price_try\n",
    "FROM store\n",
    "WHERE price_try IN(SELECT MAX(price_try) FROM store)\"\"\").show()"
   ],
   "id": "f7b74ab4dc451fca",
   "outputs": [
    {
     "name": "stdout",
     "output_type": "stream",
     "text": [
      "+-----------+--------------------+--------------------+------+-----+---------+\n",
      "|   category|         description|               title|review|score|price_try|\n",
      "+-----------+--------------------+--------------------+------+-----+---------+\n",
      "|electronics|49 INCH SUPER ULT...|Samsung 49-Inch C...|   140|  2.2|  34660.0|\n",
      "+-----------+--------------------+--------------------+------+-----+---------+\n",
      "\n"
     ]
    }
   ],
   "execution_count": 14
  },
  {
   "metadata": {
    "ExecuteTime": {
     "end_time": "2024-11-27T00:19:17.487905Z",
     "start_time": "2024-11-27T00:19:17.243432Z"
    }
   },
   "cell_type": "code",
   "source": [
    "# The most affordable product along with all its details.\n",
    "spark.sql(\"\"\"\n",
    "SELECT\n",
    "    category, description, title, review, score, price_try\n",
    "FROM store\n",
    "WHERE price_try IN(SELECT MIN(price_try) FROM store)\"\"\").show()"
   ],
   "id": "ef3405efd38815b3",
   "outputs": [
    {
     "name": "stdout",
     "output_type": "stream",
     "text": [
      "+----------------+--------------------+--------------------+------+-----+---------+\n",
      "|        category|         description|               title|review|score|price_try|\n",
      "+----------------+--------------------+--------------------+------+-----+---------+\n",
      "|women's clothing|100% Polyester, M...|Opna Women's Shor...|   146|  4.5|    276.0|\n",
      "+----------------+--------------------+--------------------+------+-----+---------+\n",
      "\n"
     ]
    }
   ],
   "execution_count": 15
  },
  {
   "metadata": {
    "ExecuteTime": {
     "end_time": "2024-11-27T00:19:18.395878Z",
     "start_time": "2024-11-27T00:19:17.994909Z"
    }
   },
   "cell_type": "code",
   "source": [
    "# The most expensive product for each category along with all its details.\n",
    "spark.sql(\"\"\"\n",
    "SELECT\n",
    "    s.category,\n",
    "    s.description,\n",
    "    s.title,\n",
    "    s.review,\n",
    "    s.score,\n",
    "    s.price_try\n",
    "FROM store s\n",
    "INNER JOIN (\n",
    "    SELECT \n",
    "        category, \n",
    "        MAX(price_try) AS max_price \n",
    "    FROM store \n",
    "    GROUP BY category\n",
    ") max_prices\n",
    "ON s.category = max_prices.category AND s.price_try = max_prices.max_price\n",
    "\"\"\").show()"
   ],
   "id": "ee8b3235df3d0ae4",
   "outputs": [
    {
     "name": "stdout",
     "output_type": "stream",
     "text": [
      "+----------------+--------------------+--------------------+------+-----+---------+\n",
      "|        category|         description|               title|review|score|price_try|\n",
      "+----------------+--------------------+--------------------+------+-----+---------+\n",
      "|  men's clothing|Your perfect pack...|Fjallraven - Fold...|   120|  3.9|   3811.0|\n",
      "|        jewelery|From our Legends ...|John Hardy Women'...|   400|  4.6|  24089.0|\n",
      "|     electronics|49 INCH SUPER ULT...|Samsung 49-Inch C...|   140|  2.2|  34660.0|\n",
      "|women's clothing|Note:The Jackets ...|BIYLACLESEN Women...|   235|  2.6|   1975.0|\n",
      "+----------------+--------------------+--------------------+------+-----+---------+\n",
      "\n"
     ]
    }
   ],
   "execution_count": 16
  }
 ],
 "metadata": {
  "kernelspec": {
   "display_name": "Python 3",
   "language": "python",
   "name": "python3"
  },
  "language_info": {
   "codemirror_mode": {
    "name": "ipython",
    "version": 2
   },
   "file_extension": ".py",
   "mimetype": "text/x-python",
   "name": "python",
   "nbconvert_exporter": "python",
   "pygments_lexer": "ipython2",
   "version": "2.7.6"
  }
 },
 "nbformat": 4,
 "nbformat_minor": 5
}
